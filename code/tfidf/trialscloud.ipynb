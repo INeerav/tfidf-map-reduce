{
 "cells": [
  {
   "cell_type": "code",
   "execution_count": 1,
   "id": "98970e7a-734a-47cc-bd93-608eceecf0e8",
   "metadata": {},
   "outputs": [],
   "source": [
    "import sys\n",
    "import os\n",
    "\n",
    "stopwords= ['a','able','about','across','after','all','almost','also','am','among','an','and','any','are','as','at','be','because','been','but','by',\n",
    "            'can','cannot','could','dear','did','do','does','either','else','ever','every','for','from','get','got','had','has','have','he','her','hers',\n",
    "            'him','his','how','however','i','if','in','into','is','it','its','just','least','let','like','likely','may','me','might','most','must','my',\n",
    "            'neither','no','nor','not','of','off','often','on','only','or','other','our','own','rather','said','say','says','she','should','since','so',\n",
    "            'some','than','that','the','their','them','then','there','these','they','this','tis','to','too','twas','us','wants','was','we','were','what',\n",
    "            'when','where','which','while','who','whom','why','will','with','would','yet','you','your'];\n"
   ]
  },
  {
   "cell_type": "code",
   "execution_count": 22,
   "id": "a6a3ec9c-9243-47e1-b1b9-948e7f4117ab",
   "metadata": {},
   "outputs": [
    {
     "name": "stdout",
     "output_type": "stream",
     "text": [
      "talked 1089\t1\n",
      "asked 1089\t1\n",
      "invited 1089\t1\n",
      "funeral 1089\t1\n",
      "come 974\t1\n",
      "back 974\t1\n",
      "take 1830\t1\n",
      "care 1830\t1\n",
      "apologies 1833\t1\n",
      "offline 1833\t1\n",
      "morning 1833\t1\n",
      "document 1833\t1\n",
      "see 1930\t1\n",
      "below 1930\t1\n",
      "case 1930\t1\n",
      "bics 1930\t1\n",
      "issue 1930\t1\n",
      "good 1940\t1\n",
      "credit 1940\t1\n",
      "score 1940\t1\n",
      "above 1940\t1\n",
      "see 1940\t1\n",
      "yours 1940\t1\n",
      "easy 1940\t1\n",
      "steps 1940\t1\n",
      "mean 2042\t1\n",
      "go 2042\t1\n",
      "cuba 2042\t1\n",
      "arrest 2042\t1\n",
      "castro 2042\t1\n",
      "shovel 2042\t1\n",
      "more 2042\t1\n",
      "little 2042\t1\n",
      "havana 2042\t1\n",
      "potus 977\t1\n",
      "running 977\t1\n",
      "late 977\t1\n",
      "katie 977\t1\n",
      "tell 977\t1\n",
      "come 977\t1\n",
      "back 977\t1\n",
      "before 977\t1\n",
      "advise 2347\t1\n",
      "doing 2347\t1\n",
      "jack 2347\t1\n",
      "mike 2347\t1\n",
      "made 2347\t1\n",
      "aware 2347\t1\n",
      "cdm 2347\t1\n",
      "fyi 2804\t1\n"
     ]
    }
   ],
   "source": [
    "import csv\n",
    "\n",
    "with open('spam10.txt', newline='') as f:\n",
    "    reader = csv.reader(f)\n",
    "    for row in reader:  \n",
    "        for r in row:      \n",
    "            userId, text = r.split('\\t', 1)            \n",
    "            text = text.strip()\n",
    "            # split the line into words\n",
    "            words = text.split()\n",
    "            # increase counters\n",
    "            for word in words:\n",
    "                word= word.lower()\n",
    "                if word not in stopwords:\n",
    "                    z=word+' '+userId\n",
    "                    print('%s\\t%s' % (z, 1))"
   ]
  }
 ],
 "metadata": {
  "kernelspec": {
   "display_name": "Python 3 (ipykernel)",
   "language": "python",
   "name": "python3"
  },
  "language_info": {
   "codemirror_mode": {
    "name": "ipython",
    "version": 3
   },
   "file_extension": ".py",
   "mimetype": "text/x-python",
   "name": "python",
   "nbconvert_exporter": "python",
   "pygments_lexer": "ipython3",
   "version": "3.11.5"
  }
 },
 "nbformat": 4,
 "nbformat_minor": 5
}
